{
 "cells": [
  {
   "cell_type": "markdown",
   "metadata": {
    "colab_type": "text",
    "id": "BEQtdLADyxjl"
   },
   "source": [
    "# Basic list exercises\n",
    "This notebook is a quick check-in to see how you are progressing on learning Python.  You will be required to complete 5\n",
    "functions based on the descriptions.\n",
    "\n",
    "Please download this file to your local machine and upload and submit when you are finished. You will recieve feedback on your results immediately. Good luck!"
   ]
  },
  {
   "cell_type": "markdown",
   "metadata": {},
   "source": [
    "## Honour Code"
   ]
  },
  {
   "cell_type": "markdown",
   "metadata": {},
   "source": [
    "I **YOUR NAME, YOUR SURNAME**, confirm - by submitting this document - that the solutions in this notebook are a result of my own work and that I abide by the EDSA honour code (https://drive.google.com/file/d/1QDCjGZJ8-FmJE3bZdIQNwnJyQKPhHZBn/view?usp=sharing).  \n",
    "\n",
    "Non-compliance with the honour code constitutes a material breach of contract."
   ]
  },
  {
   "cell_type": "markdown",
   "metadata": {
    "colab_type": "text",
    "id": "zxlMq1z_yxjm"
   },
   "source": [
    "## match_ends\n",
    "Given a list of strings, return the count of the number of strings where the string length is 2 or more and the first and last chars of the string are the same.<br>\n",
    "Note: python does not have a ++ operator, but += works."
   ]
  },
  {
   "cell_type": "code",
   "execution_count": null,
   "metadata": {
    "colab": {
     "autoexec": {
      "startup": false,
      "wait_interval": 0
     }
    },
    "colab_type": "code",
    "deletable": false,
    "id": "1U_msUWRyxjn",
    "nbgrader": {
     "checksum": "e879e024226ab9e43d31ea3a1606795e",
     "grade": false,
     "grade_id": "match_ends",
     "locked": false,
     "schema_version": 1,
     "solution": true
    }
   },
   "outputs": [],
   "source": [
    "def match_ends(words):\n",
    "    # YOUR CODE HERE\n",
    "    raise NotImplementedError()\n",
    "    return None"
   ]
  },
  {
   "cell_type": "markdown",
   "metadata": {
    "deletable": false,
    "editable": false,
    "nbgrader": {
     "checksum": "69e7c95526f4f864ee3b4f0af419ad45",
     "grade": false,
     "grade_id": "cell-c7dd6a6fa3172002",
     "locked": true,
     "schema_version": 1,
     "solution": false
    }
   },
   "source": [
    "Ensure that your method passes the following assertions (against which it will be tested):"
   ]
  },
  {
   "cell_type": "code",
   "execution_count": null,
   "metadata": {
    "deletable": false,
    "editable": false,
    "nbgrader": {
     "checksum": "f7f07fb3face72d27762b6fefe95d5d9",
     "grade": true,
     "grade_id": "correct_match_ends",
     "locked": true,
     "points": 1,
     "schema_version": 1,
     "solution": false
    }
   },
   "outputs": [],
   "source": [
    "assert match_ends(['abcdea', 'abcxa']) == 2 \n",
    "assert match_ends(['tallest', 'lovely', 'julsfsj']) == 2 "
   ]
  },
  {
   "cell_type": "code",
   "execution_count": null,
   "metadata": {
    "deletable": false,
    "editable": false,
    "nbgrader": {
     "checksum": "433ec352cdf1c7c4fef882047674645c",
     "grade": true,
     "grade_id": "cell-89048d0c01324341",
     "locked": true,
     "points": 1,
     "schema_version": 1,
     "solution": false
    }
   },
   "outputs": [],
   "source": [
    "match_ends(['abcdea', 'abcde'])"
   ]
  },
  {
   "cell_type": "markdown",
   "metadata": {
    "colab_type": "text",
    "id": "X_Dj3nPoyxjw"
   },
   "source": [
    "# front_x\n",
    "Given a list of strings, return a list with the strings in sorted order, except group all the strings that begin with 'x' first.<br>\n",
    "e.g. ['mix', 'xyz', 'apple', 'xanadu', 'aardvark'] yields<br>\n",
    "`['xanadu', 'xyz', 'aardvark', 'apple', 'mix']`<br>\n",
    "Hint: this can be done by making 2 lists and sorting each of them before combining them."
   ]
  },
  {
   "cell_type": "code",
   "execution_count": null,
   "metadata": {
    "colab": {
     "autoexec": {
      "startup": false,
      "wait_interval": 0
     }
    },
    "colab_type": "code",
    "deletable": false,
    "id": "xDOT_zbXyxjx",
    "nbgrader": {
     "checksum": "db8efda5105065a53b0e8b3037608d71",
     "grade": false,
     "grade_id": "front_x",
     "locked": false,
     "schema_version": 1,
     "solution": true
    }
   },
   "outputs": [],
   "source": [
    "def front_x(words):\n",
    "    # YOUR CODE HERE\n",
    "    raise NotImplementedError()\n",
    "    return None"
   ]
  },
  {
   "cell_type": "markdown",
   "metadata": {},
   "source": [
    "Be sure to pass the following test cases:"
   ]
  },
  {
   "cell_type": "code",
   "execution_count": null,
   "metadata": {
    "colab": {
     "autoexec": {
      "startup": false,
      "wait_interval": 0
     }
    },
    "colab_type": "code",
    "deletable": false,
    "editable": false,
    "id": "0DUW0V6Gyxjz",
    "nbgrader": {
     "checksum": "8d4dc0de8ef067ac0e63aba4d4e125d6",
     "grade": true,
     "grade_id": "correct_front_x",
     "locked": true,
     "points": 2,
     "schema_version": 1,
     "solution": false
    }
   },
   "outputs": [],
   "source": [
    "assert front_x(['mix', 'xyz', 'apple', 'xanadu', 'aardvark']) == ['xanadu', 'xyz', 'aardvark', 'apple', 'mix']\n",
    "assert front_x(['netowrk', 'artist', 'xamarian', 'king', 'cat']) == ['xamarian', 'artist', 'cat', 'king', 'netowrk'] "
   ]
  },
  {
   "cell_type": "code",
   "execution_count": null,
   "metadata": {},
   "outputs": [],
   "source": [
    "front_x(['mix', 'xyz', 'apple', 'xanadu', 'aardvark'])"
   ]
  },
  {
   "cell_type": "markdown",
   "metadata": {
    "colab_type": "text",
    "id": "lPVIV04qyxj1"
   },
   "source": [
    "## sort_last\n",
    "Given a list of non-empty tuples, return a list sorted in increasing order by the last element in each tuple.<br>\n",
    "e.g. [(1, 7), (1, 3), (3, 4, 5), (2, 2)] yields<br>\n",
    "`[(2, 2), (1, 3), (3, 4, 5), (1, 7)]`<br>\n",
    "Hint: use a custom key= function to extract the last element form each tuple."
   ]
  },
  {
   "cell_type": "code",
   "execution_count": null,
   "metadata": {
    "colab": {
     "autoexec": {
      "startup": false,
      "wait_interval": 0
     }
    },
    "colab_type": "code",
    "deletable": false,
    "id": "d1TF6aUqyxj2",
    "nbgrader": {
     "checksum": "7cf3571e605592c914ffcd6609a261a5",
     "grade": false,
     "grade_id": "sort_last",
     "locked": false,
     "schema_version": 1,
     "solution": true
    }
   },
   "outputs": [],
   "source": [
    "def sort_last(tuples):\n",
    "    # YOUR CODE HERE\n",
    "    raise NotImplementedError()\n",
    "    return None"
   ]
  },
  {
   "cell_type": "code",
   "execution_count": null,
   "metadata": {
    "colab": {
     "autoexec": {
      "startup": false,
      "wait_interval": 0
     }
    },
    "colab_type": "code",
    "deletable": false,
    "editable": false,
    "id": "WURnG0LEyxj5",
    "nbgrader": {
     "checksum": "6a0c6871cfd8c0715296a7f48a55357b",
     "grade": true,
     "grade_id": "correct_sort_last",
     "locked": true,
     "points": 2,
     "schema_version": 1,
     "solution": false
    }
   },
   "outputs": [],
   "source": [
    "assert sort_last([(1, 7), (1, 3), (3, 4, 5), (2, 2)]) == [(2, 2), (1, 3), (3, 4, 5), (1, 7)]\n",
    "assert sort_last([(3, 1, 9), (2, 6), (5, 7, 1)]) == [(5, 7, 1), (2, 6), (3, 1, 9)] "
   ]
  },
  {
   "cell_type": "code",
   "execution_count": null,
   "metadata": {},
   "outputs": [],
   "source": [
    "sort_last([(1, 7), (1, 3), (3, 4, 5), (2, 2)])"
   ]
  },
  {
   "cell_type": "markdown",
   "metadata": {
    "colab_type": "text",
    "id": "Uh24D_9Xyxj8"
   },
   "source": [
    "## remove adjacent \n",
    "Given a list of numbers, return a list where all adjacent == elements have been reduced to a single element, so [1, 2, 2, 3] returns [1, 2, 3]. You may create a new list or modify the passed in list."
   ]
  },
  {
   "cell_type": "code",
   "execution_count": null,
   "metadata": {
    "colab": {
     "autoexec": {
      "startup": false,
      "wait_interval": 0
     }
    },
    "colab_type": "code",
    "deletable": false,
    "id": "JuC9RQiJyxj8",
    "nbgrader": {
     "checksum": "b81b6109db95b4286fe49dd5cb582239",
     "grade": false,
     "grade_id": "remove_adjacent",
     "locked": false,
     "schema_version": 1,
     "solution": true
    }
   },
   "outputs": [],
   "source": [
    "def remove_adjacent(nums):\n",
    "    # YOUR CODE HERE\n",
    "    raise NotImplementedError()\n",
    "    return None"
   ]
  },
  {
   "cell_type": "markdown",
   "metadata": {},
   "source": [
    "Be sure to preserve the order (see below) and ensure that your code passes the assertions below:"
   ]
  },
  {
   "cell_type": "code",
   "execution_count": null,
   "metadata": {
    "colab": {
     "autoexec": {
      "startup": false,
      "wait_interval": 0
     }
    },
    "colab_type": "code",
    "deletable": false,
    "editable": false,
    "id": "H05PpJqdyxj-",
    "nbgrader": {
     "checksum": "890391dfb1396b9606576e09b128a0c8",
     "grade": true,
     "grade_id": "correct_remove_adjacent",
     "locked": true,
     "points": 1,
     "schema_version": 1,
     "solution": false
    }
   },
   "outputs": [],
   "source": [
    "assert remove_adjacent([1, 2, 2, 3]) == [1, 2, 3]\n",
    "assert remove_adjacent([1, 2, 2, 2, 3, 3]) == [1, 2, 3]\n",
    "assert remove_adjacent([27, -5, 13, 13, 0]) == [27, -5, 13, 0]"
   ]
  },
  {
   "cell_type": "code",
   "execution_count": null,
   "metadata": {
    "deletable": false,
    "editable": false,
    "nbgrader": {
     "checksum": "6a8006d6dc734d4bd7e8d3d86717577e",
     "grade": true,
     "grade_id": "bonus_correct_remove_adjacent",
     "locked": true,
     "points": 1,
     "schema_version": 1,
     "solution": false
    }
   },
   "outputs": [],
   "source": [
    "remove_adjacent([1, 2, 2, 3])"
   ]
  },
  {
   "cell_type": "markdown",
   "metadata": {
    "colab_type": "text",
    "id": "OgRGlNbkyxkB"
   },
   "source": [
    "## Linear Merge\n",
    "Given two lists sorted in increasing order, create and return a merged list of all the elements in sorted order. You may modify the passed in lists. <br>\n",
    "Ideally, the solution should work in \"linear\" time (dont worry if you don't know what this is, we will be covering it next week), making a single pass of both lists."
   ]
  },
  {
   "cell_type": "code",
   "execution_count": null,
   "metadata": {
    "colab": {
     "autoexec": {
      "startup": false,
      "wait_interval": 0
     }
    },
    "colab_type": "code",
    "deletable": false,
    "id": "u3lkyypGyxkD",
    "nbgrader": {
     "checksum": "c3273ed117039b0c3455ab1b2bdd255d",
     "grade": false,
     "grade_id": "linear_merge",
     "locked": false,
     "schema_version": 1,
     "solution": true
    }
   },
   "outputs": [],
   "source": [
    "def linear_merge(list1, list2):\n",
    "    # YOUR CODE HERE\n",
    "    raise NotImplementedError()\n",
    "    return None"
   ]
  },
  {
   "cell_type": "code",
   "execution_count": null,
   "metadata": {
    "colab": {
     "autoexec": {
      "startup": false,
      "wait_interval": 0
     },
     "output_extras": [
      {}
     ]
    },
    "colab_type": "code",
    "deletable": false,
    "editable": false,
    "id": "yWECAuEGyxkF",
    "nbgrader": {
     "checksum": "a26e4a273aaf587e32d35f6bec9931aa",
     "grade": true,
     "grade_id": "correct_linear_merge",
     "locked": true,
     "points": 2,
     "schema_version": 1,
     "solution": false
    },
    "outputId": "d36632f3-9567-4afe-a6a8-cb121666bb8b"
   },
   "outputs": [],
   "source": [
    "assert linear_merge(['aa', 'xx', 'zz'], ['bb', 'cc']) == ['aa', 'bb', 'cc', 'xx', 'zz']\n",
    "assert linear_merge(['aab', 'aad', 'aaf'], ['aac', 'aae']) == ['aab', 'aac', 'aad', 'aae', 'aaf']"
   ]
  },
  {
   "cell_type": "code",
   "execution_count": null,
   "metadata": {},
   "outputs": [],
   "source": [
    "linear_merge(['aa', 'xx', 'zz'], ['bb', 'cc'])"
   ]
  },
  {
   "cell_type": "markdown",
   "metadata": {
    "colab_type": "text",
    "id": "Vm13pjSjyxkI"
   },
   "source": [
    "# References"
   ]
  },
  {
   "cell_type": "markdown",
   "metadata": {
    "colab_type": "text",
    "id": "OxjO59-2yxkJ"
   },
   "source": [
    "This tutorial was created using the wonderful [Google Python Developers](https://developers.google.com/edu/python/) course, and has been modified under the [Creative Common's licence 2.5](https://creativecommons.org/licenses/by/2.5/) "
   ]
  },
  {
   "cell_type": "markdown",
   "metadata": {
    "colab_type": "text",
    "id": "Y5w2IupiyxkJ"
   },
   "source": [
    "Copyright 2010 Google Inc.\n",
    "Licensed under the Apache License, Version 2.0\n",
    "http://www.apache.org/licenses/LICENSE-2.0\n",
    "\n",
    "Google's Python Class\n",
    "http://code.google.com/edu/languages/google-python-class/"
   ]
  }
 ],
 "metadata": {
  "colab": {
   "collapsed_sections": [],
   "default_view": {},
   "name": "1b_Google_lists.ipynb",
   "provenance": [],
   "version": "0.3.2",
   "views": {}
  },
  "kernelspec": {
   "display_name": "Python 3",
   "language": "python",
   "name": "python3"
  },
  "language_info": {
   "codemirror_mode": {
    "name": "ipython",
    "version": 3
   },
   "file_extension": ".py",
   "mimetype": "text/x-python",
   "name": "python",
   "nbconvert_exporter": "python",
   "pygments_lexer": "ipython3",
   "version": "3.6.3"
  }
 },
 "nbformat": 4,
 "nbformat_minor": 1
}
